{
 "cells": [
  {
   "cell_type": "code",
   "execution_count": 1,
   "id": "0da64d4e-fb8a-4af0-8078-b28a2efe9552",
   "metadata": {},
   "outputs": [],
   "source": [
    "import numpy as np\n",
    "from scipy.signal import convolve2d as conv2d\n",
    "import scipy.stats as stats\n",
    "\n"
   ]
  },
  {
   "cell_type": "code",
   "execution_count": 2,
   "id": "97826718-b521-4b03-8b3e-2abe3d952424",
   "metadata": {
    "tags": []
   },
   "outputs": [],
   "source": [
    "class Fractal():\n",
    "    def __init__(self, X):\n",
    "        self.X  = X\n",
    "        \n",
    "    def countConv(self, k):\n",
    "        x =  self.X\n",
    "        stride =  k\n",
    "\n",
    "        count  = 0\n",
    "\n",
    "        for i in range(0, x.shape[0] - k + 1, k):\n",
    "            for j in range(0, x.shape[1] -k + 1, k):\n",
    "\n",
    "\n",
    "                X =  x[i:i+k, j:j+k]\n",
    "\n",
    "                if np.sum(X.ravel()) != 0:\n",
    "                    count += 1\n",
    "\n",
    "\n",
    "\n",
    "\n",
    "        return count\n",
    "    \n",
    "    def fractDimGS(self):\n",
    "        \"geometric step method\"\n",
    "        \n",
    "        x =  self.X\n",
    "\n",
    "        size = x.shape[0]\n",
    "\n",
    "        box =  [2 ** i for i in range(0, int(np.sqrt(size))) if 2**i <= size/2]\n",
    "\n",
    "        count = []\n",
    "        delta = []\n",
    "\n",
    "        for k in box:\n",
    "            count.append(self.countConv(k))\n",
    "            delta.append(k)\n",
    "        delta = list(reversed(delta))\n",
    "\n",
    "\n",
    "        slope = stats.linregress(np.log(1/np.array(delta)), np.log(count))[0]\n",
    "\n",
    "        D =  1 - slope\n",
    "\n",
    "\n",
    "        return D\n",
    "    \n",
    "    \n",
    "    def lacunarity(self):\n",
    "        \n",
    "        x =  self.X\n",
    "\n",
    "\n",
    "    \n",
    "        box_size = [1,2,4,8,16,32,64,128]\n",
    "\n",
    "        LAMBDA = []\n",
    "\n",
    "        for box in box_size:\n",
    "\n",
    "            count, edge= np.histogram(np.ravel(conv2d(x, np.ones((box, box)), mode = 'valid')),\n",
    "                                      bins = [i for i in range(0, (box**2) + 2)])\n",
    "            q = count/(x.shape[0] - box + 1)**2\n",
    "            s = np.array([i for i in range(0,box**2 + 1)])\n",
    "            lam_bda =  sum((s**2)*q)/(sum(q*s))**2\n",
    "\n",
    "            LAMBDA.append(lam_bda)\n",
    "\n",
    "\n",
    "\n",
    "\n",
    "        return np.mean(LAMBDA)\n",
    "    \n",
    "\n",
    "    \n",
    "    \n",
    "    \n",
    "    \n",
    "    \n",
    "            \n",
    "        \n",
    "    "
   ]
  },
  {
   "cell_type": "code",
   "execution_count": 8,
   "id": "5b4c4483-a7ac-4669-a58a-e5257732e35c",
   "metadata": {
    "tags": []
   },
   "outputs": [],
   "source": [
    "L = 512\n",
    "x = np.random.choice([1,0], size=((L,L)), replace=True, p=[0.5,0.5])"
   ]
  },
  {
   "cell_type": "code",
   "execution_count": 9,
   "id": "77a41f7c-66e1-4e08-85ad-ecb643cfcce4",
   "metadata": {
    "tags": []
   },
   "outputs": [],
   "source": [
    "f1 = Fractal(x)"
   ]
  },
  {
   "cell_type": "code",
   "execution_count": 10,
   "id": "e6fa8b42-adae-48aa-a318-655a83d08a7b",
   "metadata": {
    "tags": []
   },
   "outputs": [
    {
     "data": {
      "text/plain": [
       "4"
      ]
     },
     "execution_count": 10,
     "metadata": {},
     "output_type": "execute_result"
    }
   ],
   "source": [
    "f1.countConv(200)"
   ]
  },
  {
   "cell_type": "code",
   "execution_count": 11,
   "id": "fede829d-2f2c-4eee-acf2-7191715cbecb",
   "metadata": {
    "tags": []
   },
   "outputs": [
    {
     "data": {
      "text/plain": [
       "2.9283716918443545"
      ]
     },
     "execution_count": 11,
     "metadata": {},
     "output_type": "execute_result"
    }
   ],
   "source": [
    "f1.fractDimGS()"
   ]
  },
  {
   "cell_type": "code",
   "execution_count": 12,
   "id": "cdc971a2-5272-4cce-88a9-0cfc8ea1dfa2",
   "metadata": {
    "tags": []
   },
   "outputs": [
    {
     "data": {
      "text/plain": [
       "1.167303962848431"
      ]
     },
     "execution_count": 12,
     "metadata": {},
     "output_type": "execute_result"
    }
   ],
   "source": [
    "f1.lacunarity()"
   ]
  },
  {
   "cell_type": "code",
   "execution_count": null,
   "id": "3042afed-3315-41ff-b437-c2a22770c902",
   "metadata": {},
   "outputs": [],
   "source": []
  }
 ],
 "metadata": {
  "kernelspec": {
   "display_name": "Python 3 (ipykernel)",
   "language": "python",
   "name": "python3"
  },
  "language_info": {
   "codemirror_mode": {
    "name": "ipython",
    "version": 3
   },
   "file_extension": ".py",
   "mimetype": "text/x-python",
   "name": "python",
   "nbconvert_exporter": "python",
   "pygments_lexer": "ipython3",
   "version": "3.10.6"
  }
 },
 "nbformat": 4,
 "nbformat_minor": 5
}
