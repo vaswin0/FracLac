{
 "cells": [
  {
   "cell_type": "code",
   "execution_count": 1,
   "id": "2c600e97",
   "metadata": {},
   "outputs": [],
   "source": [
    "import matplotlib.pyplot as plt\n",
    "import numpy as np\n",
    "from scipy.signal import convolve2d as conv2d\n",
    "import time\n",
    "import pandas as pd"
   ]
  },
  {
   "cell_type": "code",
   "execution_count": 33,
   "id": "dcd1319d",
   "metadata": {},
   "outputs": [],
   "source": [
    "x1 = np.zeros((12,12))\n",
    "x1[0,:] = 1\n",
    "x1[-1,:] = 1\n",
    "x1[-2,:] = 1\n",
    "x1[:, 0] = 1\n",
    "x1[:,-1] = 1\n",
    "x1[:, 1] = 1\n",
    "x1[:, -2] =1"
   ]
  },
  {
   "cell_type": "code",
   "execution_count": 34,
   "id": "ebbfbc71",
   "metadata": {},
   "outputs": [],
   "source": [
    "x2 = np.array([1,1,0,1,1,1,0,1,0,1,1,0,\n",
    "     0,0,0,0,0,1,0,0,0,1,1,1,\n",
    "    0,1,0,1,1,1,1,1,0,1,1,0,\n",
    "    1,0,1,1,1,0,0,0,0,0,0,0,\n",
    "    1,1,0,1,0,1,0,0,1,1,0,0,\n",
    "    0,1,0,1,1,0,0,1,0,0,1,0,\n",
    "    0,0,0,0,0,1,1,1,1,1,1,1,\n",
    "    0,1,1,0,0,0,1,1,1,1,0,0,\n",
    "    0,1,1,1,0,1,1,0,1,0,0,1,\n",
    "    0,1,0,0,0,0,0,0,0,1,1,1,\n",
    "    0,1,0,1,1,1,0,1,1,0,1,0,\n",
    "    0,1,0,0,0,1,0,1,1,1,0,1]).reshape((12,12))"
   ]
  },
  {
   "cell_type": "code",
   "execution_count": 31,
   "id": "b2e2968e",
   "metadata": {},
   "outputs": [],
   "source": [
    "def lac_calc_table(x, r):\n",
    "    r = box \n",
    "    S = occupancy = np.array([i for i in range(0, (box**2) + 1)])\n",
    "    \n",
    "    '''\n",
    "    a =  np.ravel(conv2d(x2, np.ones((box, box)), mode = 'valid'))\n",
    "    count = np.array([sum(a.ravel()==i) for i in range(0,box**2 + 1)])\n",
    "    '''\n",
    "    count, edge= np.histogram(np.ravel(conv2d(x, np.ones((box, box)), mode = 'valid')), bins = [i for i in range(0, (box**2) + 2)])\n",
    "    N_r =  (x.shape[0] - r + 1)**2\n",
    "    q = count/N_r\n",
    "    sq = S*q\n",
    "    s2q = S*S*q\n",
    "    z1 =  sum(sq)\n",
    "    z2 = sum(s2q)\n",
    "    lambda_ = z2/(z1**2)\n",
    "    df = pd.DataFrame({'S':S,\n",
    "                   'n(S,r)':count,\n",
    "                   'Q(S,r)':q,\n",
    "                    'SQ(S,r)':sq,\n",
    "                    'S2Q(S,r)':s2q})\n",
    "    \n",
    "    print('box size r = ' ,r)\n",
    "    print('lambda', lambda_)\n",
    "    \n",
    "    return df"
   ]
  },
  {
   "cell_type": "code",
   "execution_count": 32,
   "id": "80fffff5",
   "metadata": {},
   "outputs": [
    {
     "name": "stdout",
     "output_type": "stream",
     "text": [
      "box size r =  2\n",
      "lambda 1.2156784982483975\n"
     ]
    },
    {
     "data": {
      "text/html": [
       "<div>\n",
       "<style scoped>\n",
       "    .dataframe tbody tr th:only-of-type {\n",
       "        vertical-align: middle;\n",
       "    }\n",
       "\n",
       "    .dataframe tbody tr th {\n",
       "        vertical-align: top;\n",
       "    }\n",
       "\n",
       "    .dataframe thead th {\n",
       "        text-align: right;\n",
       "    }\n",
       "</style>\n",
       "<table border=\"1\" class=\"dataframe\">\n",
       "  <thead>\n",
       "    <tr style=\"text-align: right;\">\n",
       "      <th></th>\n",
       "      <th>S</th>\n",
       "      <th>n(S,r)</th>\n",
       "      <th>Q(S,r)</th>\n",
       "      <th>SQ(S,r)</th>\n",
       "      <th>S2Q(S,r)</th>\n",
       "    </tr>\n",
       "  </thead>\n",
       "  <tbody>\n",
       "    <tr>\n",
       "      <th>0</th>\n",
       "      <td>0</td>\n",
       "      <td>3</td>\n",
       "      <td>0.024793</td>\n",
       "      <td>0.000000</td>\n",
       "      <td>0.000000</td>\n",
       "    </tr>\n",
       "    <tr>\n",
       "      <th>1</th>\n",
       "      <td>1</td>\n",
       "      <td>35</td>\n",
       "      <td>0.289256</td>\n",
       "      <td>0.289256</td>\n",
       "      <td>0.289256</td>\n",
       "    </tr>\n",
       "    <tr>\n",
       "      <th>2</th>\n",
       "      <td>2</td>\n",
       "      <td>46</td>\n",
       "      <td>0.380165</td>\n",
       "      <td>0.760331</td>\n",
       "      <td>1.520661</td>\n",
       "    </tr>\n",
       "    <tr>\n",
       "      <th>3</th>\n",
       "      <td>3</td>\n",
       "      <td>29</td>\n",
       "      <td>0.239669</td>\n",
       "      <td>0.719008</td>\n",
       "      <td>2.157025</td>\n",
       "    </tr>\n",
       "    <tr>\n",
       "      <th>4</th>\n",
       "      <td>4</td>\n",
       "      <td>8</td>\n",
       "      <td>0.066116</td>\n",
       "      <td>0.264463</td>\n",
       "      <td>1.057851</td>\n",
       "    </tr>\n",
       "  </tbody>\n",
       "</table>\n",
       "</div>"
      ],
      "text/plain": [
       "   S  n(S,r)    Q(S,r)   SQ(S,r)  S2Q(S,r)\n",
       "0  0       3  0.024793  0.000000  0.000000\n",
       "1  1      35  0.289256  0.289256  0.289256\n",
       "2  2      46  0.380165  0.760331  1.520661\n",
       "3  3      29  0.239669  0.719008  2.157025\n",
       "4  4       8  0.066116  0.264463  1.057851"
      ]
     },
     "execution_count": 32,
     "metadata": {},
     "output_type": "execute_result"
    }
   ],
   "source": [
    "lac_calc_table(x2, 2)"
   ]
  },
  {
   "cell_type": "code",
   "execution_count": null,
   "id": "3844e831",
   "metadata": {},
   "outputs": [],
   "source": []
  }
 ],
 "metadata": {
  "kernelspec": {
   "display_name": "Python 3 (ipykernel)",
   "language": "python",
   "name": "python3"
  },
  "language_info": {
   "codemirror_mode": {
    "name": "ipython",
    "version": 3
   },
   "file_extension": ".py",
   "mimetype": "text/x-python",
   "name": "python",
   "nbconvert_exporter": "python",
   "pygments_lexer": "ipython3",
   "version": "3.8.10"
  }
 },
 "nbformat": 4,
 "nbformat_minor": 5
}
