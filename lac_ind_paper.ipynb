{
 "cells": [
  {
   "cell_type": "markdown",
   "id": "0b250aff",
   "metadata": {},
   "source": [
    "## Implementation of \"Lacunarity indices as measures of landscape texture\" Plotnick et.al\n",
    "\n",
    "\n"
   ]
  },
  {
   "cell_type": "code",
   "execution_count": 1,
   "id": "2c600e97",
   "metadata": {
    "tags": []
   },
   "outputs": [],
   "source": [
    "import matplotlib.pyplot as plt\n",
    "import numpy as np\n",
    "from scipy.signal import convolve2d as conv2d\n",
    "import time\n",
    "import pandas as pd"
   ]
  },
  {
   "cell_type": "code",
   "execution_count": 2,
   "id": "dcd1319d",
   "metadata": {
    "tags": []
   },
   "outputs": [
    {
     "data": {
      "text/plain": [
       "<matplotlib.image.AxesImage at 0x7f8dd8ebed70>"
      ]
     },
     "execution_count": 2,
     "metadata": {},
     "output_type": "execute_result"
    },
    {
     "data": {
      "image/png": "[encoded data removed]",
      "text/plain": [
       "<Figure size 640x480 with 1 Axes>"
      ]
     },
     "metadata": {},
     "output_type": "display_data"
    }
   ],
   "source": [
    "x1 = np.zeros((12,12))\n",
    "x1[0,:] = 1\n",
    "x1[-1,:] = 1\n",
    "x1[-2,:] = 1\n",
    "x1[:, 0] = 1\n",
    "x1[:,-1] = 1\n",
    "x1[:, 1] = 1\n",
    "x1[:, -2] =1\n",
    "\n",
    "plt.imshow(x1, cmap = 'gray')\n"
   ]
  },
  {
   "cell_type": "code",
   "execution_count": 3,
   "id": "ebbfbc71",
   "metadata": {
    "tags": []
   },
   "outputs": [
    {
     "data": {
      "text/plain": [
       "<matplotlib.image.AxesImage at 0x7f8dd8dc7fd0>"
      ]
     },
     "execution_count": 3,
     "metadata": {},
     "output_type": "execute_result"
    },
    {
     "data": {
      "image/png": "[encoded data removed]",
      "text/plain": [
       "<Figure size 640x480 with 1 Axes>"
      ]
     },
     "metadata": {},
     "output_type": "display_data"
    }
   ],
   "source": [
    "x2 = np.array([\n",
    "    1,1,0,1,1,1,0,1,0,1,1,0,\n",
    "    0,0,0,0,0,1,0,0,0,1,1,1,\n",
    "    0,1,0,1,1,1,1,1,0,1,1,0,\n",
    "    1,0,1,1,1,0,0,0,0,0,0,0,\n",
    "    1,1,0,1,0,1,0,0,1,1,0,0,\n",
    "    0,1,0,1,1,0,0,1,0,0,1,0,\n",
    "    0,0,0,0,0,1,1,1,1,1,1,1,\n",
    "    0,1,1,0,0,0,1,1,1,1,0,0,\n",
    "    0,1,1,1,0,1,1,0,1,0,0,1,\n",
    "    0,1,0,0,0,0,0,0,0,1,1,1,\n",
    "    0,1,0,1,1,1,0,1,1,0,1,0,\n",
    "    0,1,0,0,0,1,0,1,1,1,0,1]).reshape((12,12))\n",
    "\n",
    "plt.imshow(x2, cmap = 'gray')"
   ]
  },
  {
   "cell_type": "code",
   "execution_count": null,
   "id": "b2e2968e",
   "metadata": {},
   "outputs": [],
   "source": [
    "def lac_calc_table(x, box):\n",
    "    \n",
    "    \"\"\" Outputs a table of S, n(S,r),Q(S,r),\n",
    "       SQ(S,r), S^2Q(S, r) for a given box \n",
    "       size r, as in table 1 in the paper\n",
    "       \n",
    "       Arguments\n",
    "       ---------\n",
    "       x : a 2d binary map\n",
    "       box : box size \n",
    "       \n",
    "       Returns\n",
    "       _______\n",
    "       \n",
    "       pandas dataframe \n",
    "       \n",
    "       \n",
    "       \"\"\"\n",
    "    \n",
    "    \n",
    "    S = np.array([i for i in range(0, (box**2) + 1)]) # possible number of occupancied sites in a box \n",
    "    \n",
    "    '''\n",
    "    a =  np.ravel(conv2d(x2, np.ones((box, box)), mode = 'valid'))\n",
    "    count = np.array([sum(a.ravel()==i) for i in range(0,box**2 + 1)])\n",
    "    '''\n",
    "    count, edge= np.histogram(np.ravel(conv2d(x, np.ones((box, box)), mode = 'valid')),\n",
    "                              bins = [i for i in range(0, (box**2) + 2)])\n",
    "    \n",
    "    N_r =  (x.shape[0] - r + 1)**2\n",
    "    \n",
    "    q = count/N_r\n",
    "    sq = S*q\n",
    "    s2q = S*S*q\n",
    "    z1 =  sum(sq)\n",
    "    z2 = sum(s2q)\n",
    "    lambda_ = z2/(z1**2)\n",
    "    \n",
    "    df = pd.DataFrame({'S':S,\n",
    "                   'n(S,r)':count,\n",
    "                   'Q(S,r)':q,\n",
    "                    'SQ(S,r)':sq,\n",
    "                    'S2Q(S,r)':s2q})\n",
    "    \n",
    "    print('box size r : ' ,r)\n",
    "    print('Z(1):', z1)\n",
    "    print('Z(2):', z2)\n",
    "    print('lambda:', lambda_)\n",
    "    \n",
    "    return df"
   ]
  },
  {
   "cell_type": "code",
   "execution_count": null,
   "id": "80fffff5",
   "metadata": {},
   "outputs": [],
   "source": [
    "lac_calc_table(x2, 2)"
   ]
  },
  {
   "cell_type": "markdown",
   "id": "b158c6fa",
   "metadata": {},
   "source": [
    "# Lacunarity analysis of simulated maps\n",
    "\n",
    "### Hierarchically structured random maps were generated by a recursive algorithm derived from the methods of fractal geometry known as curdling "
   ]
  },
  {
   "cell_type": "code",
   "execution_count": null,
   "id": "10adc77c",
   "metadata": {},
   "outputs": [],
   "source": [
    "def RandHierarchFracGen(level, size, prob1 ):\n",
    "    \n",
    "    \n",
    "    '''\n",
    "    The funtion generates hierarchically \n",
    "    structured random maps using curdling.\n",
    "    \n",
    "    args: level- number of levels of succesively\n",
    "                 finer scales within the map\n",
    "                 \n",
    "          size - size of the final map\n",
    "          \n",
    "          prob1 - list containing fraction of \n",
    "                  1s in each level\n",
    "                  \n",
    "    returns : A numpy array\n",
    "    \n",
    "    \n",
    "    '''\n",
    "    \n",
    "    \n",
    "    L = int(np.round(size**(1/level)))\n",
    "    \n",
    "    m = np.random.choice([1,0], size=((L,L)), replace=True, p=[prob1[0],1-prob1[0]])\n",
    "    \n",
    "    for k in range(1, level):\n",
    "        \n",
    "        A = m.ravel()\n",
    "\n",
    "        B = []\n",
    "\n",
    "\n",
    "        for r in range(len(A)):\n",
    "            if A[r] == 1:\n",
    "                   B.append(np.random.choice([1,0], size=((L,L)), replace=True, p=[prob1[k],1-prob1[k]]))\n",
    "            else:\n",
    "                B.append(np.zeros((L,L)))\n",
    "                \n",
    "                \n",
    "        B =  np.array(B)\n",
    "        \n",
    "        \n",
    "\n",
    "        x =  np.zeros((L**(k+1),L**(k+1)))\n",
    "        \n",
    "        \n",
    "        p = 0\n",
    "        \n",
    "        for i in range(0, L**k):\n",
    "            for j in range(0,L**k):\n",
    "\n",
    "                r1 = L*i\n",
    "                r2 = r1 + L\n",
    "\n",
    "                c1 =  L*j\n",
    "                c2 =  c1 + L\n",
    "                x[r1:r2, c1:c2] = B[p]\n",
    "                p+=1\n",
    "\n",
    "        m = x\n",
    "        \n",
    "        \n",
    "        #plt.imshow(m, cmap = 'gray')\n",
    "        \n",
    "        \n",
    "        \n",
    "        \n",
    "    return m\n",
    "    \n",
    "\n",
    "    \n",
    "    \n",
    "    "
   ]
  },
  {
   "cell_type": "code",
   "execution_count": null,
   "id": "71432050",
   "metadata": {},
   "outputs": [],
   "source": [
    "fig, ax = plt.subplots(2,2,figsize=(15,15))\n",
    "ax[0,0].imshow(RandHierarchFracGen(3, 216, [0.806, 0.806,0.806]), cmap = 'gray')\n",
    "ax[0,1].imshow(RandHierarchFracGen(3, 216, [1,1,0.5]), cmap = 'gray')\n",
    "ax[1,0].imshow(RandHierarchFracGen(3, 216, [0.5,1,1]), cmap = 'gray')\n",
    "ax[1,1].imshow(RandHierarchFracGen(3, 216, [1,0.5,1]), cmap = 'gray')"
   ]
  },
  {
   "cell_type": "markdown",
   "id": "419c7299",
   "metadata": {},
   "source": [
    "## Lacunarity Analysis"
   ]
  },
  {
   "cell_type": "code",
   "execution_count": null,
   "id": "14bd2ab1",
   "metadata": {},
   "outputs": [],
   "source": [
    "\n",
    "map_type = ['Top91', 'Middle91', 'Bottom91', 'Same91', \n",
    "            'Top50', 'Middle50', 'Bottom50','Same50',\n",
    "            'Top02', 'Middle02', 'Bottom02', 'Same02', 'Dn02', 'Up02']\n",
    "p1 = [0.917,1,1,0.972,0.5,1,1,0.805,0.028,1,1,0.306,1,0.167 ]\n",
    "p2 = [1, 0.917, 1,0.972,  1, 0.500, 1, 0.806, 1, 0.028,1, 0.306, 0.167, 1]\n",
    "p3 = [1,1,0.917, 0.972, 1,1,0.500, 0.806, 1,1,0.028, 0.306, 0.167, 1]\n",
    "P = [0.917,0.917,0.917,0.919,0.500,0.500, 0.500, 0.528,  0.028, 0.028, 0.028, 0.028,  0.028, 0.028 ]\n",
    "\n",
    "#Total_Edges = []\n",
    "\n",
    "maps = pd.DataFrame({'Map Type': map_type,'p1':p1, 'p2':p2, 'p3':p3, 'P':P })"
   ]
  },
  {
   "cell_type": "code",
   "execution_count": null,
   "id": "1c027d93",
   "metadata": {},
   "outputs": [],
   "source": [
    "maps"
   ]
  },
  {
   "cell_type": "code",
   "execution_count": null,
   "id": "5d3a9fbd",
   "metadata": {},
   "outputs": [],
   "source": [
    "random91 = np.random.choice([1,0], size=((216,216)), replace=True, p=[0.917,1-0.917])\n",
    "random50 = np.random.choice([1,0], size=((216,216)), replace=True, p=[0.5,0.5])\n",
    "random02 = np.random.choice([1,0], size=((216,216)), replace=True, p=[0.028,1-0.028])"
   ]
  },
  {
   "cell_type": "code",
   "execution_count": 4,
   "id": "e4fa2df3",
   "metadata": {
    "tags": []
   },
   "outputs": [],
   "source": [
    "def lacunarity(x):\n",
    "\n",
    "\n",
    "    \n",
    "    box_size = [1,2,4,8,16,32,64,128]\n",
    "    \n",
    "    LAMBDA = []\n",
    "  \n",
    "    for box in box_size:\n",
    "        \n",
    "        count, edge= np.histogram(np.ravel(conv2d(x, np.ones((box, box)), mode = 'valid')), bins = [i for i in range(0, (box**2) + 2)])\n",
    "        q = count/(x.shape[0] - box + 1)**2\n",
    "        s = np.array([i for i in range(0,box**2 + 1)])\n",
    "        lam_bda =  sum((s**2)*q)/(sum(q*s))**2\n",
    "        \n",
    "        LAMBDA.append(lam_bda)\n",
    "    \n",
    "        \n",
    "        \n",
    "        \n",
    "    return LAMBDA"
   ]
  },
  {
   "cell_type": "code",
   "execution_count": 5,
   "id": "6cafc249-2dc8-4d9f-be9a-a9f24748c223",
   "metadata": {
    "tags": []
   },
   "outputs": [
    {
     "data": {
      "text/plain": [
       "[2.0,\n",
       " 1.2156784982483975,\n",
       " 1.0370794242759747,\n",
       " 1.0021995392608567,\n",
       " 0.36,\n",
       " 0.8185941043083901,\n",
       " 0.9259522961908151,\n",
       " 0.9661041712323764]"
      ]
     },
     "execution_count": 5,
     "metadata": {},
     "output_type": "execute_result"
    }
   ],
   "source": [
    "lacunarity(x2)"
   ]
  },
  {
   "cell_type": "code",
   "execution_count": null,
   "id": "afe2e301",
   "metadata": {},
   "outputs": [],
   "source": [
    "box_size = [1,2,4,8,16,32,64,128]\n",
    "maps =  np.array(maps)"
   ]
  },
  {
   "cell_type": "code",
   "execution_count": null,
   "id": "0be5d203",
   "metadata": {},
   "outputs": [],
   "source": [
    "fig, ax =  plt.subplots(1,3,figsize=(9,3))\n",
    "\n",
    "for i in range(len(maps)):\n",
    "    if  maps[i,4] == 0.5: \n",
    "        ax[0].plot(np.log(box_size),np.log(lacunarity(RandHierarchFracGen(3, 216, maps[i,1:-1] )) ),'-o')\n",
    "        \n",
    "ax[0].plot(np.log(box_size),np.log(lacunarity(random50)), '--')\n",
    "ax[0].set_title('P = 0.5')\n",
    "\n",
    "\n",
    "for i in range(len(maps)):\n",
    "    if  maps[i,4] == 0.917: \n",
    "        ax[1].plot(np.log(box_size),np.log(lacunarity(RandHierarchFracGen(3, 216, maps[i,1:-1] )) ),'-o')\n",
    "        \n",
    "ax[1].plot(np.log(box_size),np.log(lacunarity(random91)), '--')\n",
    "ax[1].set_title('P = 0.917')\n",
    "\n",
    "\n",
    "for i in range(len(maps)):\n",
    "    if  maps[i,4] == 0.028: \n",
    "        ax[2].plot(np.log(box_size),np.log(lacunarity(RandHierarchFracGen(3, 216, maps[i,1:-1] )) ),'-o')\n",
    "        \n",
    "ax[2].plot(np.log(box_size),np.log(lacunarity(random02)), '--')\n",
    "ax[2].set_title('P = 0.028')\n",
    "\n",
    "\n",
    "\n",
    "\n",
    "fig.text(0.5, 0.04, 'ln (box size)', ha='center', va='center')\n",
    "fig.text(0.06, 0.5, 'ln (lacunarity)', ha='center', va='center', rotation='vertical')"
   ]
  },
  {
   "cell_type": "code",
   "execution_count": null,
   "id": "6278b65c",
   "metadata": {},
   "outputs": [],
   "source": [
    "%timeit RandHierarchFracGen(3, 216, [0.806, 0.806,0.806])"
   ]
  },
  {
   "cell_type": "code",
   "execution_count": null,
   "id": "a74d63d5",
   "metadata": {},
   "outputs": [],
   "source": [
    "%prun RandHierarchFracGen(3, 216, [0.806, 0.806,0.806])"
   ]
  },
  {
   "cell_type": "code",
   "execution_count": null,
   "id": "fa09f8c7",
   "metadata": {},
   "outputs": [],
   "source": []
  }
 ],
 "metadata": {
  "kernelspec": {
   "display_name": "Python 3 (ipykernel)",
   "language": "python",
   "name": "python3"
  },
  "language_info": {
   "codemirror_mode": {
    "name": "ipython",
    "version": 3
   },
   "file_extension": ".py",
   "mimetype": "text/x-python",
   "name": "python",
   "nbconvert_exporter": "python",
   "pygments_lexer": "ipython3",
   "version": "3.10.6"
  }
 },
 "nbformat": 4,
 "nbformat_minor": 5
}
